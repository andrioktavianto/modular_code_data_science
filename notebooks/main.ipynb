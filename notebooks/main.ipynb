{
 "cells": [
  {
   "cell_type": "code",
   "execution_count": 1,
   "metadata": {},
   "outputs": [
    {
     "name": "stderr",
     "output_type": "stream",
     "text": [
      "C:\\Users\\61662\\AppData\\Local\\Temp\\ipykernel_21680\\805299909.py:1: DeprecationWarning: \n",
      "Pyarrow will become a required dependency of pandas in the next major release of pandas (pandas 3.0),\n",
      "(to allow more performant data types, such as the Arrow string type, and better interoperability with other libraries)\n",
      "but was not found to be installed on your system.\n",
      "If this would cause problems for you,\n",
      "please provide us feedback at https://github.com/pandas-dev/pandas/issues/54466\n",
      "        \n",
      "  import pandas as pd\n",
      "d:\\Personal\\Python Projects\\modular_code\\.venv\\Lib\\site-packages\\sklearn\\metrics\\_scorer.py:548: FutureWarning: The `needs_threshold` and `needs_proba` parameter are deprecated in version 1.4 and will be removed in 1.6. You can either let `response_method` be `None` or set it to `predict` to preserve the same behaviour.\n",
      "  warnings.warn(\n",
      "IProgress not found. Please update jupyter and ipywidgets. See https://ipywidgets.readthedocs.io/en/stable/user_install.html\n"
     ]
    }
   ],
   "source": [
    "import pandas as pd\n",
    "import numpy as np\n",
    "\n",
    "from sklearn.model_selection import train_test_split\n",
    "\n",
    "from supervised.automl import AutoML\n",
    "\n",
    "from sklearn.metrics import accuracy_score, precision_score, recall_score, roc_auc_score\n",
    "\n",
    "import sys\n",
    "sys.path.append('../') # to import function from another folder\n",
    "\n",
    "from src.utils import rename_column, rename_columns\n",
    "\n",
    "import src.dataset as dataset"
   ]
  },
  {
   "cell_type": "code",
   "execution_count": 2,
   "metadata": {},
   "outputs": [],
   "source": [
    "CREDIT_RISK_DATASET = '../data/raw/credit_risk_dataset.csv'\n",
    "LABELS = 'loan_status'\n",
    "MISSING_VALUE_HANDLING = 'fill_zero'\n",
    "\n",
    "categorical_features = ['person_home_ownership', 'loan_intent', 'loan_grade', 'cb_person_default_on_file']\n",
    "\n",
    "df = pd.read_csv(CREDIT_RISK_DATASET)\n",
    "\n",
    "df = df.drop_duplicates(keep='last')"
   ]
  },
  {
   "cell_type": "code",
   "execution_count": 3,
   "metadata": {},
   "outputs": [
    {
     "data": {
      "text/html": [
       "<div>\n",
       "<style scoped>\n",
       "    .dataframe tbody tr th:only-of-type {\n",
       "        vertical-align: middle;\n",
       "    }\n",
       "\n",
       "    .dataframe tbody tr th {\n",
       "        vertical-align: top;\n",
       "    }\n",
       "\n",
       "    .dataframe thead th {\n",
       "        text-align: right;\n",
       "    }\n",
       "</style>\n",
       "<table border=\"1\" class=\"dataframe\">\n",
       "  <thead>\n",
       "    <tr style=\"text-align: right;\">\n",
       "      <th></th>\n",
       "      <th>person_age</th>\n",
       "      <th>person_income</th>\n",
       "      <th>person_home_ownership</th>\n",
       "      <th>person_emp_length</th>\n",
       "      <th>loan_intent</th>\n",
       "      <th>loan_grade</th>\n",
       "      <th>loan_amnt</th>\n",
       "      <th>loan_int_rate</th>\n",
       "      <th>loan_status</th>\n",
       "      <th>loan_percent_income</th>\n",
       "      <th>cb_person_default_on_file</th>\n",
       "      <th>cb_person_cred_hist_length</th>\n",
       "    </tr>\n",
       "  </thead>\n",
       "  <tbody>\n",
       "    <tr>\n",
       "      <th>0</th>\n",
       "      <td>22</td>\n",
       "      <td>59000</td>\n",
       "      <td>RENT</td>\n",
       "      <td>123.0</td>\n",
       "      <td>PERSONAL</td>\n",
       "      <td>D</td>\n",
       "      <td>35000</td>\n",
       "      <td>16.02</td>\n",
       "      <td>1</td>\n",
       "      <td>0.59</td>\n",
       "      <td>Y</td>\n",
       "      <td>3</td>\n",
       "    </tr>\n",
       "    <tr>\n",
       "      <th>1</th>\n",
       "      <td>21</td>\n",
       "      <td>9600</td>\n",
       "      <td>OWN</td>\n",
       "      <td>5.0</td>\n",
       "      <td>EDUCATION</td>\n",
       "      <td>B</td>\n",
       "      <td>1000</td>\n",
       "      <td>11.14</td>\n",
       "      <td>0</td>\n",
       "      <td>0.10</td>\n",
       "      <td>N</td>\n",
       "      <td>2</td>\n",
       "    </tr>\n",
       "    <tr>\n",
       "      <th>2</th>\n",
       "      <td>25</td>\n",
       "      <td>9600</td>\n",
       "      <td>MORTGAGE</td>\n",
       "      <td>1.0</td>\n",
       "      <td>MEDICAL</td>\n",
       "      <td>C</td>\n",
       "      <td>5500</td>\n",
       "      <td>12.87</td>\n",
       "      <td>1</td>\n",
       "      <td>0.57</td>\n",
       "      <td>N</td>\n",
       "      <td>3</td>\n",
       "    </tr>\n",
       "    <tr>\n",
       "      <th>3</th>\n",
       "      <td>23</td>\n",
       "      <td>65500</td>\n",
       "      <td>RENT</td>\n",
       "      <td>4.0</td>\n",
       "      <td>MEDICAL</td>\n",
       "      <td>C</td>\n",
       "      <td>35000</td>\n",
       "      <td>15.23</td>\n",
       "      <td>1</td>\n",
       "      <td>0.53</td>\n",
       "      <td>N</td>\n",
       "      <td>2</td>\n",
       "    </tr>\n",
       "    <tr>\n",
       "      <th>4</th>\n",
       "      <td>24</td>\n",
       "      <td>54400</td>\n",
       "      <td>RENT</td>\n",
       "      <td>8.0</td>\n",
       "      <td>MEDICAL</td>\n",
       "      <td>C</td>\n",
       "      <td>35000</td>\n",
       "      <td>14.27</td>\n",
       "      <td>1</td>\n",
       "      <td>0.55</td>\n",
       "      <td>Y</td>\n",
       "      <td>4</td>\n",
       "    </tr>\n",
       "  </tbody>\n",
       "</table>\n",
       "</div>"
      ],
      "text/plain": [
       "   person_age  person_income person_home_ownership  person_emp_length  \\\n",
       "0          22          59000                  RENT              123.0   \n",
       "1          21           9600                   OWN                5.0   \n",
       "2          25           9600              MORTGAGE                1.0   \n",
       "3          23          65500                  RENT                4.0   \n",
       "4          24          54400                  RENT                8.0   \n",
       "\n",
       "  loan_intent loan_grade  loan_amnt  loan_int_rate  loan_status  \\\n",
       "0    PERSONAL          D      35000          16.02            1   \n",
       "1   EDUCATION          B       1000          11.14            0   \n",
       "2     MEDICAL          C       5500          12.87            1   \n",
       "3     MEDICAL          C      35000          15.23            1   \n",
       "4     MEDICAL          C      35000          14.27            1   \n",
       "\n",
       "   loan_percent_income cb_person_default_on_file  cb_person_cred_hist_length  \n",
       "0                 0.59                         Y                           3  \n",
       "1                 0.10                         N                           2  \n",
       "2                 0.57                         N                           3  \n",
       "3                 0.53                         N                           2  \n",
       "4                 0.55                         Y                           4  "
      ]
     },
     "execution_count": 3,
     "metadata": {},
     "output_type": "execute_result"
    }
   ],
   "source": [
    "df.head()"
   ]
  },
  {
   "cell_type": "code",
   "execution_count": 4,
   "metadata": {},
   "outputs": [],
   "source": [
    "# split data before filling NaN & vectorizing to avoid data leak\n",
    "# stratify to make sure we get all of the categorical variables on train set\n",
    "X = df.drop(columns=LABELS)\n",
    "y = df[LABELS]"
   ]
  },
  {
   "cell_type": "code",
   "execution_count": 5,
   "metadata": {},
   "outputs": [
    {
     "name": "stdout",
     "output_type": "stream",
     "text": [
      "25932\n",
      "25932\n"
     ]
    }
   ],
   "source": [
    "X_train, X_test, y_train, y_test = train_test_split(X, y, test_size = 0.2, random_state=46)\n",
    "\n",
    "X_train = dataset.clean_data('credit_risk', X_train, LABELS, MISSING_VALUE_HANDLING)\n",
    "X_test = dataset.clean_data('credit_risk', X_test, LABELS, MISSING_VALUE_HANDLING)\n",
    "print(X_train.shape[0])\n",
    "print(y_train.shape[0])"
   ]
  },
  {
   "cell_type": "code",
   "execution_count": 6,
   "metadata": {},
   "outputs": [
    {
     "name": "stdout",
     "output_type": "stream",
     "text": [
      "Linear algorithm was disabled.\n",
      "AutoML directory: AutoML_1\n",
      "The task is binary_classification with evaluation metric logloss\n",
      "AutoML will use algorithms: ['Baseline', 'Decision Tree', 'Random Forest', 'Xgboost', 'Neural Network']\n",
      "AutoML will ensemble available models\n",
      "AutoML steps: ['simple_algorithms', 'default_algorithms', 'ensemble']\n",
      "* Step simple_algorithms will try to check up to 2 models\n",
      "1_Baseline logloss 0.522131 trained in 0.34 seconds\n"
     ]
    },
    {
     "name": "stderr",
     "output_type": "stream",
     "text": [
      "d:\\Personal\\Python Projects\\modular_code\\.venv\\Lib\\site-packages\\supervised\\preprocessing\\preprocessing_categorical.py:78: FutureWarning: Setting an item of incompatible dtype is deprecated and will raise in a future error of pandas. Value '[0 0 0 ... 0 0 0]' has dtype incompatible with bool, please explicitly cast to a compatible dtype first.\n",
      "d:\\Personal\\Python Projects\\modular_code\\.venv\\Lib\\site-packages\\supervised\\preprocessing\\preprocessing_categorical.py:78: FutureWarning: Setting an item of incompatible dtype is deprecated and will raise in a future error of pandas. Value '[0 0 0 ... 0 0 0]' has dtype incompatible with bool, please explicitly cast to a compatible dtype first.\n",
      "d:\\Personal\\Python Projects\\modular_code\\.venv\\Lib\\site-packages\\supervised\\preprocessing\\preprocessing_categorical.py:78: FutureWarning: Setting an item of incompatible dtype is deprecated and will raise in a future error of pandas. Value '[1 1 1 ... 1 1 0]' has dtype incompatible with bool, please explicitly cast to a compatible dtype first.\n",
      "d:\\Personal\\Python Projects\\modular_code\\.venv\\Lib\\site-packages\\supervised\\preprocessing\\preprocessing_categorical.py:78: FutureWarning: Setting an item of incompatible dtype is deprecated and will raise in a future error of pandas. Value '[0 0 0 ... 0 0 1]' has dtype incompatible with bool, please explicitly cast to a compatible dtype first.\n",
      "d:\\Personal\\Python Projects\\modular_code\\.venv\\Lib\\site-packages\\supervised\\preprocessing\\preprocessing_categorical.py:78: FutureWarning: Setting an item of incompatible dtype is deprecated and will raise in a future error of pandas. Value '[0 0 0 ... 1 0 0]' has dtype incompatible with bool, please explicitly cast to a compatible dtype first.\n",
      "d:\\Personal\\Python Projects\\modular_code\\.venv\\Lib\\site-packages\\supervised\\preprocessing\\preprocessing_categorical.py:78: FutureWarning: Setting an item of incompatible dtype is deprecated and will raise in a future error of pandas. Value '[0 0 1 ... 0 1 0]' has dtype incompatible with bool, please explicitly cast to a compatible dtype first.\n",
      "d:\\Personal\\Python Projects\\modular_code\\.venv\\Lib\\site-packages\\supervised\\preprocessing\\preprocessing_categorical.py:78: FutureWarning: Setting an item of incompatible dtype is deprecated and will raise in a future error of pandas. Value '[0 0 0 ... 0 0 0]' has dtype incompatible with bool, please explicitly cast to a compatible dtype first.\n",
      "d:\\Personal\\Python Projects\\modular_code\\.venv\\Lib\\site-packages\\supervised\\preprocessing\\preprocessing_categorical.py:78: FutureWarning: Setting an item of incompatible dtype is deprecated and will raise in a future error of pandas. Value '[1 1 0 ... 0 0 0]' has dtype incompatible with bool, please explicitly cast to a compatible dtype first.\n",
      "d:\\Personal\\Python Projects\\modular_code\\.venv\\Lib\\site-packages\\supervised\\preprocessing\\preprocessing_categorical.py:78: FutureWarning: Setting an item of incompatible dtype is deprecated and will raise in a future error of pandas. Value '[1 0 0 ... 0 0 0]' has dtype incompatible with bool, please explicitly cast to a compatible dtype first.\n",
      "d:\\Personal\\Python Projects\\modular_code\\.venv\\Lib\\site-packages\\supervised\\preprocessing\\preprocessing_categorical.py:78: FutureWarning: Setting an item of incompatible dtype is deprecated and will raise in a future error of pandas. Value '[0 1 1 ... 0 0 0]' has dtype incompatible with bool, please explicitly cast to a compatible dtype first.\n",
      "d:\\Personal\\Python Projects\\modular_code\\.venv\\Lib\\site-packages\\supervised\\preprocessing\\preprocessing_categorical.py:78: FutureWarning: Setting an item of incompatible dtype is deprecated and will raise in a future error of pandas. Value '[0 0 0 ... 0 0 0]' has dtype incompatible with bool, please explicitly cast to a compatible dtype first.\n",
      "d:\\Personal\\Python Projects\\modular_code\\.venv\\Lib\\site-packages\\supervised\\preprocessing\\preprocessing_categorical.py:78: FutureWarning: Setting an item of incompatible dtype is deprecated and will raise in a future error of pandas. Value '[0 0 0 ... 0 0 0]' has dtype incompatible with bool, please explicitly cast to a compatible dtype first.\n",
      "d:\\Personal\\Python Projects\\modular_code\\.venv\\Lib\\site-packages\\supervised\\preprocessing\\preprocessing_categorical.py:78: FutureWarning: Setting an item of incompatible dtype is deprecated and will raise in a future error of pandas. Value '[0 0 0 ... 0 0 0]' has dtype incompatible with bool, please explicitly cast to a compatible dtype first.\n",
      "d:\\Personal\\Python Projects\\modular_code\\.venv\\Lib\\site-packages\\supervised\\preprocessing\\preprocessing_categorical.py:78: FutureWarning: Setting an item of incompatible dtype is deprecated and will raise in a future error of pandas. Value '[0 0 0 ... 0 0 0]' has dtype incompatible with bool, please explicitly cast to a compatible dtype first.\n",
      "d:\\Personal\\Python Projects\\modular_code\\.venv\\Lib\\site-packages\\supervised\\preprocessing\\preprocessing_categorical.py:78: FutureWarning: Setting an item of incompatible dtype is deprecated and will raise in a future error of pandas. Value '[0 0 0 ... 0 0 0]' has dtype incompatible with bool, please explicitly cast to a compatible dtype first.\n",
      "d:\\Personal\\Python Projects\\modular_code\\.venv\\Lib\\site-packages\\supervised\\preprocessing\\preprocessing_categorical.py:78: FutureWarning: Setting an item of incompatible dtype is deprecated and will raise in a future error of pandas. Value '[0 0 0 ... 0 0 0]' has dtype incompatible with bool, please explicitly cast to a compatible dtype first.\n",
      "d:\\Personal\\Python Projects\\modular_code\\.venv\\Lib\\site-packages\\supervised\\preprocessing\\preprocessing_categorical.py:78: FutureWarning: Setting an item of incompatible dtype is deprecated and will raise in a future error of pandas. Value '[0 0 0 ... 0 0 0]' has dtype incompatible with bool, please explicitly cast to a compatible dtype first.\n",
      "d:\\Personal\\Python Projects\\modular_code\\.venv\\Lib\\site-packages\\supervised\\preprocessing\\preprocessing_categorical.py:78: FutureWarning: Setting an item of incompatible dtype is deprecated and will raise in a future error of pandas. Value '[1 1 0 ... 1 1 1]' has dtype incompatible with bool, please explicitly cast to a compatible dtype first.\n",
      "d:\\Personal\\Python Projects\\modular_code\\.venv\\Lib\\site-packages\\supervised\\preprocessing\\preprocessing_categorical.py:78: FutureWarning: Setting an item of incompatible dtype is deprecated and will raise in a future error of pandas. Value '[0 0 0 ... 0 0 0]' has dtype incompatible with bool, please explicitly cast to a compatible dtype first.\n",
      "d:\\Personal\\Python Projects\\modular_code\\.venv\\Lib\\site-packages\\supervised\\preprocessing\\preprocessing_categorical.py:78: FutureWarning: Setting an item of incompatible dtype is deprecated and will raise in a future error of pandas. Value '[0 0 1 ... 0 0 0]' has dtype incompatible with bool, please explicitly cast to a compatible dtype first.\n",
      "d:\\Personal\\Python Projects\\modular_code\\.venv\\Lib\\site-packages\\supervised\\preprocessing\\preprocessing_categorical.py:78: FutureWarning: Setting an item of incompatible dtype is deprecated and will raise in a future error of pandas. Value '[1 0 0 ... 0 0 1]' has dtype incompatible with bool, please explicitly cast to a compatible dtype first.\n",
      "d:\\Personal\\Python Projects\\modular_code\\.venv\\Lib\\site-packages\\supervised\\preprocessing\\preprocessing_categorical.py:78: FutureWarning: Setting an item of incompatible dtype is deprecated and will raise in a future error of pandas. Value '[0 0 0 ... 1 1 0]' has dtype incompatible with bool, please explicitly cast to a compatible dtype first.\n",
      "d:\\Personal\\Python Projects\\modular_code\\.venv\\Lib\\site-packages\\supervised\\preprocessing\\preprocessing_categorical.py:78: FutureWarning: Setting an item of incompatible dtype is deprecated and will raise in a future error of pandas. Value '[0 1 0 ... 0 0 0]' has dtype incompatible with bool, please explicitly cast to a compatible dtype first.\n",
      "d:\\Personal\\Python Projects\\modular_code\\.venv\\Lib\\site-packages\\supervised\\preprocessing\\preprocessing_categorical.py:78: FutureWarning: Setting an item of incompatible dtype is deprecated and will raise in a future error of pandas. Value '[1 0 1 ... 1 0 1]' has dtype incompatible with bool, please explicitly cast to a compatible dtype first.\n",
      "d:\\Personal\\Python Projects\\modular_code\\.venv\\Lib\\site-packages\\supervised\\preprocessing\\preprocessing_categorical.py:78: FutureWarning: Setting an item of incompatible dtype is deprecated and will raise in a future error of pandas. Value '[0 1 0 ... 0 1 0]' has dtype incompatible with bool, please explicitly cast to a compatible dtype first.\n",
      "d:\\Personal\\Python Projects\\modular_code\\.venv\\Lib\\site-packages\\supervised\\preprocessing\\preprocessing_categorical.py:78: FutureWarning: Setting an item of incompatible dtype is deprecated and will raise in a future error of pandas. Value '[0 0 0 ... 0 0 0]' has dtype incompatible with bool, please explicitly cast to a compatible dtype first.\n",
      "d:\\Personal\\Python Projects\\modular_code\\.venv\\Lib\\site-packages\\supervised\\preprocessing\\preprocessing_categorical.py:78: FutureWarning: Setting an item of incompatible dtype is deprecated and will raise in a future error of pandas. Value '[0 0 0 ... 0 0 0]' has dtype incompatible with bool, please explicitly cast to a compatible dtype first.\n",
      "d:\\Personal\\Python Projects\\modular_code\\.venv\\Lib\\site-packages\\supervised\\preprocessing\\preprocessing_categorical.py:78: FutureWarning: Setting an item of incompatible dtype is deprecated and will raise in a future error of pandas. Value '[0 0 0 ... 0 0 0]' has dtype incompatible with bool, please explicitly cast to a compatible dtype first.\n",
      "d:\\Personal\\Python Projects\\modular_code\\.venv\\Lib\\site-packages\\supervised\\preprocessing\\preprocessing_categorical.py:78: FutureWarning: Setting an item of incompatible dtype is deprecated and will raise in a future error of pandas. Value '[0 0 0 ... 0 0 0]' has dtype incompatible with bool, please explicitly cast to a compatible dtype first.\n",
      "d:\\Personal\\Python Projects\\modular_code\\.venv\\Lib\\site-packages\\supervised\\preprocessing\\preprocessing_categorical.py:78: FutureWarning: Setting an item of incompatible dtype is deprecated and will raise in a future error of pandas. Value '[0 1 0 ... 0 1 0]' has dtype incompatible with bool, please explicitly cast to a compatible dtype first.\n"
     ]
    },
    {
     "name": "stdout",
     "output_type": "stream",
     "text": [
      "2_DecisionTree logloss 0.322163 trained in 34.91 seconds\n",
      "* Step default_algorithms will try to check up to 3 models\n"
     ]
    },
    {
     "name": "stderr",
     "output_type": "stream",
     "text": [
      "d:\\Personal\\Python Projects\\modular_code\\.venv\\Lib\\site-packages\\supervised\\preprocessing\\preprocessing_categorical.py:78: FutureWarning: Setting an item of incompatible dtype is deprecated and will raise in a future error of pandas. Value '[0 0 0 ... 0 0 0]' has dtype incompatible with bool, please explicitly cast to a compatible dtype first.\n",
      "d:\\Personal\\Python Projects\\modular_code\\.venv\\Lib\\site-packages\\supervised\\preprocessing\\preprocessing_categorical.py:78: FutureWarning: Setting an item of incompatible dtype is deprecated and will raise in a future error of pandas. Value '[0 0 0 ... 0 0 0]' has dtype incompatible with bool, please explicitly cast to a compatible dtype first.\n",
      "d:\\Personal\\Python Projects\\modular_code\\.venv\\Lib\\site-packages\\supervised\\preprocessing\\preprocessing_categorical.py:78: FutureWarning: Setting an item of incompatible dtype is deprecated and will raise in a future error of pandas. Value '[1 1 1 ... 1 1 0]' has dtype incompatible with bool, please explicitly cast to a compatible dtype first.\n",
      "d:\\Personal\\Python Projects\\modular_code\\.venv\\Lib\\site-packages\\supervised\\preprocessing\\preprocessing_categorical.py:78: FutureWarning: Setting an item of incompatible dtype is deprecated and will raise in a future error of pandas. Value '[0 0 0 ... 0 0 1]' has dtype incompatible with bool, please explicitly cast to a compatible dtype first.\n",
      "d:\\Personal\\Python Projects\\modular_code\\.venv\\Lib\\site-packages\\supervised\\preprocessing\\preprocessing_categorical.py:78: FutureWarning: Setting an item of incompatible dtype is deprecated and will raise in a future error of pandas. Value '[0 0 0 ... 1 0 0]' has dtype incompatible with bool, please explicitly cast to a compatible dtype first.\n",
      "d:\\Personal\\Python Projects\\modular_code\\.venv\\Lib\\site-packages\\supervised\\preprocessing\\preprocessing_categorical.py:78: FutureWarning: Setting an item of incompatible dtype is deprecated and will raise in a future error of pandas. Value '[0 0 1 ... 0 1 0]' has dtype incompatible with bool, please explicitly cast to a compatible dtype first.\n",
      "d:\\Personal\\Python Projects\\modular_code\\.venv\\Lib\\site-packages\\supervised\\preprocessing\\preprocessing_categorical.py:78: FutureWarning: Setting an item of incompatible dtype is deprecated and will raise in a future error of pandas. Value '[0 0 0 ... 0 0 0]' has dtype incompatible with bool, please explicitly cast to a compatible dtype first.\n",
      "d:\\Personal\\Python Projects\\modular_code\\.venv\\Lib\\site-packages\\supervised\\preprocessing\\preprocessing_categorical.py:78: FutureWarning: Setting an item of incompatible dtype is deprecated and will raise in a future error of pandas. Value '[1 1 0 ... 0 0 0]' has dtype incompatible with bool, please explicitly cast to a compatible dtype first.\n",
      "d:\\Personal\\Python Projects\\modular_code\\.venv\\Lib\\site-packages\\supervised\\preprocessing\\preprocessing_categorical.py:78: FutureWarning: Setting an item of incompatible dtype is deprecated and will raise in a future error of pandas. Value '[1 0 0 ... 0 0 0]' has dtype incompatible with bool, please explicitly cast to a compatible dtype first.\n",
      "d:\\Personal\\Python Projects\\modular_code\\.venv\\Lib\\site-packages\\supervised\\preprocessing\\preprocessing_categorical.py:78: FutureWarning: Setting an item of incompatible dtype is deprecated and will raise in a future error of pandas. Value '[0 1 1 ... 0 0 0]' has dtype incompatible with bool, please explicitly cast to a compatible dtype first.\n",
      "d:\\Personal\\Python Projects\\modular_code\\.venv\\Lib\\site-packages\\supervised\\preprocessing\\preprocessing_categorical.py:78: FutureWarning: Setting an item of incompatible dtype is deprecated and will raise in a future error of pandas. Value '[0 0 0 ... 0 0 0]' has dtype incompatible with bool, please explicitly cast to a compatible dtype first.\n",
      "d:\\Personal\\Python Projects\\modular_code\\.venv\\Lib\\site-packages\\supervised\\preprocessing\\preprocessing_categorical.py:78: FutureWarning: Setting an item of incompatible dtype is deprecated and will raise in a future error of pandas. Value '[0 0 0 ... 0 0 0]' has dtype incompatible with bool, please explicitly cast to a compatible dtype first.\n",
      "d:\\Personal\\Python Projects\\modular_code\\.venv\\Lib\\site-packages\\supervised\\preprocessing\\preprocessing_categorical.py:78: FutureWarning: Setting an item of incompatible dtype is deprecated and will raise in a future error of pandas. Value '[0 0 0 ... 0 0 0]' has dtype incompatible with bool, please explicitly cast to a compatible dtype first.\n",
      "d:\\Personal\\Python Projects\\modular_code\\.venv\\Lib\\site-packages\\supervised\\preprocessing\\preprocessing_categorical.py:78: FutureWarning: Setting an item of incompatible dtype is deprecated and will raise in a future error of pandas. Value '[0 0 0 ... 0 0 0]' has dtype incompatible with bool, please explicitly cast to a compatible dtype first.\n",
      "d:\\Personal\\Python Projects\\modular_code\\.venv\\Lib\\site-packages\\supervised\\preprocessing\\preprocessing_categorical.py:78: FutureWarning: Setting an item of incompatible dtype is deprecated and will raise in a future error of pandas. Value '[0 0 0 ... 0 0 0]' has dtype incompatible with bool, please explicitly cast to a compatible dtype first.\n",
      "d:\\Personal\\Python Projects\\modular_code\\.venv\\Lib\\site-packages\\supervised\\preprocessing\\preprocessing_categorical.py:78: FutureWarning: Setting an item of incompatible dtype is deprecated and will raise in a future error of pandas. Value '[0 0 0 ... 0 0 0]' has dtype incompatible with bool, please explicitly cast to a compatible dtype first.\n",
      "d:\\Personal\\Python Projects\\modular_code\\.venv\\Lib\\site-packages\\supervised\\preprocessing\\preprocessing_categorical.py:78: FutureWarning: Setting an item of incompatible dtype is deprecated and will raise in a future error of pandas. Value '[0 0 0 ... 0 0 0]' has dtype incompatible with bool, please explicitly cast to a compatible dtype first.\n",
      "d:\\Personal\\Python Projects\\modular_code\\.venv\\Lib\\site-packages\\supervised\\preprocessing\\preprocessing_categorical.py:78: FutureWarning: Setting an item of incompatible dtype is deprecated and will raise in a future error of pandas. Value '[1 1 0 ... 1 1 1]' has dtype incompatible with bool, please explicitly cast to a compatible dtype first.\n",
      "d:\\Personal\\Python Projects\\modular_code\\.venv\\Lib\\site-packages\\supervised\\preprocessing\\preprocessing_categorical.py:78: FutureWarning: Setting an item of incompatible dtype is deprecated and will raise in a future error of pandas. Value '[0 0 0 ... 0 0 0]' has dtype incompatible with bool, please explicitly cast to a compatible dtype first.\n",
      "d:\\Personal\\Python Projects\\modular_code\\.venv\\Lib\\site-packages\\supervised\\preprocessing\\preprocessing_categorical.py:78: FutureWarning: Setting an item of incompatible dtype is deprecated and will raise in a future error of pandas. Value '[0 0 1 ... 0 0 0]' has dtype incompatible with bool, please explicitly cast to a compatible dtype first.\n",
      "d:\\Personal\\Python Projects\\modular_code\\.venv\\Lib\\site-packages\\supervised\\preprocessing\\preprocessing_categorical.py:78: FutureWarning: Setting an item of incompatible dtype is deprecated and will raise in a future error of pandas. Value '[1 0 0 ... 0 0 1]' has dtype incompatible with bool, please explicitly cast to a compatible dtype first.\n",
      "d:\\Personal\\Python Projects\\modular_code\\.venv\\Lib\\site-packages\\supervised\\preprocessing\\preprocessing_categorical.py:78: FutureWarning: Setting an item of incompatible dtype is deprecated and will raise in a future error of pandas. Value '[0 0 0 ... 1 1 0]' has dtype incompatible with bool, please explicitly cast to a compatible dtype first.\n",
      "d:\\Personal\\Python Projects\\modular_code\\.venv\\Lib\\site-packages\\supervised\\preprocessing\\preprocessing_categorical.py:78: FutureWarning: Setting an item of incompatible dtype is deprecated and will raise in a future error of pandas. Value '[0 1 0 ... 0 0 0]' has dtype incompatible with bool, please explicitly cast to a compatible dtype first.\n",
      "d:\\Personal\\Python Projects\\modular_code\\.venv\\Lib\\site-packages\\supervised\\preprocessing\\preprocessing_categorical.py:78: FutureWarning: Setting an item of incompatible dtype is deprecated and will raise in a future error of pandas. Value '[1 0 1 ... 1 0 1]' has dtype incompatible with bool, please explicitly cast to a compatible dtype first.\n",
      "d:\\Personal\\Python Projects\\modular_code\\.venv\\Lib\\site-packages\\supervised\\preprocessing\\preprocessing_categorical.py:78: FutureWarning: Setting an item of incompatible dtype is deprecated and will raise in a future error of pandas. Value '[0 1 0 ... 0 1 0]' has dtype incompatible with bool, please explicitly cast to a compatible dtype first.\n",
      "d:\\Personal\\Python Projects\\modular_code\\.venv\\Lib\\site-packages\\supervised\\preprocessing\\preprocessing_categorical.py:78: FutureWarning: Setting an item of incompatible dtype is deprecated and will raise in a future error of pandas. Value '[0 0 0 ... 0 0 0]' has dtype incompatible with bool, please explicitly cast to a compatible dtype first.\n",
      "d:\\Personal\\Python Projects\\modular_code\\.venv\\Lib\\site-packages\\supervised\\preprocessing\\preprocessing_categorical.py:78: FutureWarning: Setting an item of incompatible dtype is deprecated and will raise in a future error of pandas. Value '[0 0 0 ... 0 0 0]' has dtype incompatible with bool, please explicitly cast to a compatible dtype first.\n",
      "d:\\Personal\\Python Projects\\modular_code\\.venv\\Lib\\site-packages\\supervised\\preprocessing\\preprocessing_categorical.py:78: FutureWarning: Setting an item of incompatible dtype is deprecated and will raise in a future error of pandas. Value '[0 0 0 ... 0 0 0]' has dtype incompatible with bool, please explicitly cast to a compatible dtype first.\n",
      "d:\\Personal\\Python Projects\\modular_code\\.venv\\Lib\\site-packages\\supervised\\preprocessing\\preprocessing_categorical.py:78: FutureWarning: Setting an item of incompatible dtype is deprecated and will raise in a future error of pandas. Value '[0 0 0 ... 0 0 0]' has dtype incompatible with bool, please explicitly cast to a compatible dtype first.\n",
      "d:\\Personal\\Python Projects\\modular_code\\.venv\\Lib\\site-packages\\supervised\\preprocessing\\preprocessing_categorical.py:78: FutureWarning: Setting an item of incompatible dtype is deprecated and will raise in a future error of pandas. Value '[0 1 0 ... 0 1 0]' has dtype incompatible with bool, please explicitly cast to a compatible dtype first.\n"
     ]
    },
    {
     "name": "stdout",
     "output_type": "stream",
     "text": [
      "3_Default_Xgboost logloss 0.186951 trained in 10.06 seconds\n"
     ]
    },
    {
     "name": "stderr",
     "output_type": "stream",
     "text": [
      "d:\\Personal\\Python Projects\\modular_code\\.venv\\Lib\\site-packages\\supervised\\preprocessing\\preprocessing_categorical.py:78: FutureWarning: Setting an item of incompatible dtype is deprecated and will raise in a future error of pandas. Value '[0 0 0 ... 0 0 0]' has dtype incompatible with bool, please explicitly cast to a compatible dtype first.\n",
      "d:\\Personal\\Python Projects\\modular_code\\.venv\\Lib\\site-packages\\supervised\\preprocessing\\preprocessing_categorical.py:78: FutureWarning: Setting an item of incompatible dtype is deprecated and will raise in a future error of pandas. Value '[0 0 0 ... 0 0 0]' has dtype incompatible with bool, please explicitly cast to a compatible dtype first.\n",
      "d:\\Personal\\Python Projects\\modular_code\\.venv\\Lib\\site-packages\\supervised\\preprocessing\\preprocessing_categorical.py:78: FutureWarning: Setting an item of incompatible dtype is deprecated and will raise in a future error of pandas. Value '[1 1 1 ... 1 1 0]' has dtype incompatible with bool, please explicitly cast to a compatible dtype first.\n",
      "d:\\Personal\\Python Projects\\modular_code\\.venv\\Lib\\site-packages\\supervised\\preprocessing\\preprocessing_categorical.py:78: FutureWarning: Setting an item of incompatible dtype is deprecated and will raise in a future error of pandas. Value '[0 0 0 ... 0 0 1]' has dtype incompatible with bool, please explicitly cast to a compatible dtype first.\n",
      "d:\\Personal\\Python Projects\\modular_code\\.venv\\Lib\\site-packages\\supervised\\preprocessing\\preprocessing_categorical.py:78: FutureWarning: Setting an item of incompatible dtype is deprecated and will raise in a future error of pandas. Value '[0 0 0 ... 1 0 0]' has dtype incompatible with bool, please explicitly cast to a compatible dtype first.\n",
      "d:\\Personal\\Python Projects\\modular_code\\.venv\\Lib\\site-packages\\supervised\\preprocessing\\preprocessing_categorical.py:78: FutureWarning: Setting an item of incompatible dtype is deprecated and will raise in a future error of pandas. Value '[0 0 1 ... 0 1 0]' has dtype incompatible with bool, please explicitly cast to a compatible dtype first.\n",
      "d:\\Personal\\Python Projects\\modular_code\\.venv\\Lib\\site-packages\\supervised\\preprocessing\\preprocessing_categorical.py:78: FutureWarning: Setting an item of incompatible dtype is deprecated and will raise in a future error of pandas. Value '[0 0 0 ... 0 0 0]' has dtype incompatible with bool, please explicitly cast to a compatible dtype first.\n",
      "d:\\Personal\\Python Projects\\modular_code\\.venv\\Lib\\site-packages\\supervised\\preprocessing\\preprocessing_categorical.py:78: FutureWarning: Setting an item of incompatible dtype is deprecated and will raise in a future error of pandas. Value '[1 1 0 ... 0 0 0]' has dtype incompatible with bool, please explicitly cast to a compatible dtype first.\n",
      "d:\\Personal\\Python Projects\\modular_code\\.venv\\Lib\\site-packages\\supervised\\preprocessing\\preprocessing_categorical.py:78: FutureWarning: Setting an item of incompatible dtype is deprecated and will raise in a future error of pandas. Value '[1 0 0 ... 0 0 0]' has dtype incompatible with bool, please explicitly cast to a compatible dtype first.\n",
      "d:\\Personal\\Python Projects\\modular_code\\.venv\\Lib\\site-packages\\supervised\\preprocessing\\preprocessing_categorical.py:78: FutureWarning: Setting an item of incompatible dtype is deprecated and will raise in a future error of pandas. Value '[0 1 1 ... 0 0 0]' has dtype incompatible with bool, please explicitly cast to a compatible dtype first.\n",
      "d:\\Personal\\Python Projects\\modular_code\\.venv\\Lib\\site-packages\\supervised\\preprocessing\\preprocessing_categorical.py:78: FutureWarning: Setting an item of incompatible dtype is deprecated and will raise in a future error of pandas. Value '[0 0 0 ... 0 0 0]' has dtype incompatible with bool, please explicitly cast to a compatible dtype first.\n",
      "d:\\Personal\\Python Projects\\modular_code\\.venv\\Lib\\site-packages\\supervised\\preprocessing\\preprocessing_categorical.py:78: FutureWarning: Setting an item of incompatible dtype is deprecated and will raise in a future error of pandas. Value '[0 0 0 ... 0 0 0]' has dtype incompatible with bool, please explicitly cast to a compatible dtype first.\n",
      "d:\\Personal\\Python Projects\\modular_code\\.venv\\Lib\\site-packages\\supervised\\preprocessing\\preprocessing_categorical.py:78: FutureWarning: Setting an item of incompatible dtype is deprecated and will raise in a future error of pandas. Value '[0 0 0 ... 0 0 0]' has dtype incompatible with bool, please explicitly cast to a compatible dtype first.\n",
      "d:\\Personal\\Python Projects\\modular_code\\.venv\\Lib\\site-packages\\supervised\\preprocessing\\preprocessing_categorical.py:78: FutureWarning: Setting an item of incompatible dtype is deprecated and will raise in a future error of pandas. Value '[0 0 0 ... 0 0 0]' has dtype incompatible with bool, please explicitly cast to a compatible dtype first.\n",
      "d:\\Personal\\Python Projects\\modular_code\\.venv\\Lib\\site-packages\\supervised\\preprocessing\\preprocessing_categorical.py:78: FutureWarning: Setting an item of incompatible dtype is deprecated and will raise in a future error of pandas. Value '[0 0 0 ... 0 0 0]' has dtype incompatible with bool, please explicitly cast to a compatible dtype first.\n",
      "d:\\Personal\\Python Projects\\modular_code\\.venv\\Lib\\site-packages\\supervised\\preprocessing\\preprocessing_categorical.py:78: FutureWarning: Setting an item of incompatible dtype is deprecated and will raise in a future error of pandas. Value '[0 0 0 ... 0 0 0]' has dtype incompatible with bool, please explicitly cast to a compatible dtype first.\n",
      "d:\\Personal\\Python Projects\\modular_code\\.venv\\Lib\\site-packages\\supervised\\preprocessing\\preprocessing_categorical.py:78: FutureWarning: Setting an item of incompatible dtype is deprecated and will raise in a future error of pandas. Value '[0 0 0 ... 0 0 0]' has dtype incompatible with bool, please explicitly cast to a compatible dtype first.\n",
      "d:\\Personal\\Python Projects\\modular_code\\.venv\\Lib\\site-packages\\supervised\\preprocessing\\preprocessing_categorical.py:78: FutureWarning: Setting an item of incompatible dtype is deprecated and will raise in a future error of pandas. Value '[1 1 0 ... 1 1 1]' has dtype incompatible with bool, please explicitly cast to a compatible dtype first.\n",
      "d:\\Personal\\Python Projects\\modular_code\\.venv\\Lib\\site-packages\\supervised\\preprocessing\\preprocessing_categorical.py:78: FutureWarning: Setting an item of incompatible dtype is deprecated and will raise in a future error of pandas. Value '[0 0 0 ... 0 0 0]' has dtype incompatible with bool, please explicitly cast to a compatible dtype first.\n",
      "d:\\Personal\\Python Projects\\modular_code\\.venv\\Lib\\site-packages\\supervised\\preprocessing\\preprocessing_categorical.py:78: FutureWarning: Setting an item of incompatible dtype is deprecated and will raise in a future error of pandas. Value '[0 0 1 ... 0 0 0]' has dtype incompatible with bool, please explicitly cast to a compatible dtype first.\n",
      "d:\\Personal\\Python Projects\\modular_code\\.venv\\Lib\\site-packages\\supervised\\preprocessing\\preprocessing_categorical.py:78: FutureWarning: Setting an item of incompatible dtype is deprecated and will raise in a future error of pandas. Value '[1 0 0 ... 0 0 1]' has dtype incompatible with bool, please explicitly cast to a compatible dtype first.\n",
      "d:\\Personal\\Python Projects\\modular_code\\.venv\\Lib\\site-packages\\supervised\\preprocessing\\preprocessing_categorical.py:78: FutureWarning: Setting an item of incompatible dtype is deprecated and will raise in a future error of pandas. Value '[0 0 0 ... 1 1 0]' has dtype incompatible with bool, please explicitly cast to a compatible dtype first.\n",
      "d:\\Personal\\Python Projects\\modular_code\\.venv\\Lib\\site-packages\\supervised\\preprocessing\\preprocessing_categorical.py:78: FutureWarning: Setting an item of incompatible dtype is deprecated and will raise in a future error of pandas. Value '[0 1 0 ... 0 0 0]' has dtype incompatible with bool, please explicitly cast to a compatible dtype first.\n",
      "d:\\Personal\\Python Projects\\modular_code\\.venv\\Lib\\site-packages\\supervised\\preprocessing\\preprocessing_categorical.py:78: FutureWarning: Setting an item of incompatible dtype is deprecated and will raise in a future error of pandas. Value '[1 0 1 ... 1 0 1]' has dtype incompatible with bool, please explicitly cast to a compatible dtype first.\n",
      "d:\\Personal\\Python Projects\\modular_code\\.venv\\Lib\\site-packages\\supervised\\preprocessing\\preprocessing_categorical.py:78: FutureWarning: Setting an item of incompatible dtype is deprecated and will raise in a future error of pandas. Value '[0 1 0 ... 0 1 0]' has dtype incompatible with bool, please explicitly cast to a compatible dtype first.\n",
      "d:\\Personal\\Python Projects\\modular_code\\.venv\\Lib\\site-packages\\supervised\\preprocessing\\preprocessing_categorical.py:78: FutureWarning: Setting an item of incompatible dtype is deprecated and will raise in a future error of pandas. Value '[0 0 0 ... 0 0 0]' has dtype incompatible with bool, please explicitly cast to a compatible dtype first.\n",
      "d:\\Personal\\Python Projects\\modular_code\\.venv\\Lib\\site-packages\\supervised\\preprocessing\\preprocessing_categorical.py:78: FutureWarning: Setting an item of incompatible dtype is deprecated and will raise in a future error of pandas. Value '[0 0 0 ... 0 0 0]' has dtype incompatible with bool, please explicitly cast to a compatible dtype first.\n",
      "d:\\Personal\\Python Projects\\modular_code\\.venv\\Lib\\site-packages\\supervised\\preprocessing\\preprocessing_categorical.py:78: FutureWarning: Setting an item of incompatible dtype is deprecated and will raise in a future error of pandas. Value '[0 0 0 ... 0 0 0]' has dtype incompatible with bool, please explicitly cast to a compatible dtype first.\n",
      "d:\\Personal\\Python Projects\\modular_code\\.venv\\Lib\\site-packages\\supervised\\preprocessing\\preprocessing_categorical.py:78: FutureWarning: Setting an item of incompatible dtype is deprecated and will raise in a future error of pandas. Value '[0 0 0 ... 0 0 0]' has dtype incompatible with bool, please explicitly cast to a compatible dtype first.\n",
      "d:\\Personal\\Python Projects\\modular_code\\.venv\\Lib\\site-packages\\supervised\\preprocessing\\preprocessing_categorical.py:78: FutureWarning: Setting an item of incompatible dtype is deprecated and will raise in a future error of pandas. Value '[0 1 0 ... 0 1 0]' has dtype incompatible with bool, please explicitly cast to a compatible dtype first.\n",
      "d:\\Personal\\Python Projects\\modular_code\\.venv\\Lib\\site-packages\\supervised\\preprocessing\\scale.py:33: FutureWarning: Setting an item of incompatible dtype is deprecated and will raise in a future error of pandas. Value '[-1.06356914 -0.27598761 -0.27598761 ... -0.90605283 -0.74853653\n",
      " -0.27598761]' has dtype incompatible with int64, please explicitly cast to a compatible dtype first.\n",
      "d:\\Personal\\Python Projects\\modular_code\\.venv\\Lib\\site-packages\\supervised\\preprocessing\\scale.py:33: FutureWarning: Setting an item of incompatible dtype is deprecated and will raise in a future error of pandas. Value '[-0.66592322 -0.25809122  0.02010079 ... -0.66592322 -0.35999359\n",
      " -0.49905251]' has dtype incompatible with int64, please explicitly cast to a compatible dtype first.\n",
      "d:\\Personal\\Python Projects\\modular_code\\.venv\\Lib\\site-packages\\supervised\\preprocessing\\scale.py:33: FutureWarning: Setting an item of incompatible dtype is deprecated and will raise in a future error of pandas. Value '[ 0.06443013 -1.2780151   0.06443013 ... -0.03427908  0.06443013\n",
      " -1.07269995]' has dtype incompatible with int64, please explicitly cast to a compatible dtype first.\n",
      "d:\\Personal\\Python Projects\\modular_code\\.venv\\Lib\\site-packages\\supervised\\preprocessing\\scale.py:33: FutureWarning: Setting an item of incompatible dtype is deprecated and will raise in a future error of pandas. Value '[-0.93671195 -0.44635826 -0.6915351  ... -0.93671195 -0.6915351\n",
      " -0.93671195]' has dtype incompatible with int64, please explicitly cast to a compatible dtype first.\n",
      "d:\\Personal\\Python Projects\\modular_code\\.venv\\Lib\\site-packages\\supervised\\preprocessing\\scale.py:33: FutureWarning: Setting an item of incompatible dtype is deprecated and will raise in a future error of pandas. Value '[-0.05562857 -0.05562857 -0.05562857 ... -0.05562857 -0.05562857\n",
      " -0.05562857]' has dtype incompatible with int64, please explicitly cast to a compatible dtype first.\n",
      "d:\\Personal\\Python Projects\\modular_code\\.venv\\Lib\\site-packages\\supervised\\preprocessing\\scale.py:33: FutureWarning: Setting an item of incompatible dtype is deprecated and will raise in a future error of pandas. Value '[-0.29571537 -0.29571537 -0.29571537 ... -0.29571537 -0.29571537\n",
      " -0.29571537]' has dtype incompatible with int64, please explicitly cast to a compatible dtype first.\n",
      "d:\\Personal\\Python Projects\\modular_code\\.venv\\Lib\\site-packages\\supervised\\preprocessing\\scale.py:33: FutureWarning: Setting an item of incompatible dtype is deprecated and will raise in a future error of pandas. Value '[ 0.9891076   0.9891076  -1.01101235 ...  0.9891076   0.9891076\n",
      "  0.9891076 ]' has dtype incompatible with int64, please explicitly cast to a compatible dtype first.\n",
      "d:\\Personal\\Python Projects\\modular_code\\.venv\\Lib\\site-packages\\supervised\\preprocessing\\scale.py:33: FutureWarning: Setting an item of incompatible dtype is deprecated and will raise in a future error of pandas. Value '[-0.50619467 -0.50619467 -0.50619467 ... -0.50619467 -0.50619467\n",
      " -0.50619467]' has dtype incompatible with int64, please explicitly cast to a compatible dtype first.\n",
      "d:\\Personal\\Python Projects\\modular_code\\.venv\\Lib\\site-packages\\supervised\\preprocessing\\scale.py:33: FutureWarning: Setting an item of incompatible dtype is deprecated and will raise in a future error of pandas. Value '[-0.35355339 -0.35355339  2.82842712 ... -0.35355339 -0.35355339\n",
      " -0.35355339]' has dtype incompatible with int64, please explicitly cast to a compatible dtype first.\n",
      "d:\\Personal\\Python Projects\\modular_code\\.venv\\Lib\\site-packages\\supervised\\preprocessing\\scale.py:33: FutureWarning: Setting an item of incompatible dtype is deprecated and will raise in a future error of pandas. Value '[ 2.10828101 -0.47432007 -0.47432007 ... -0.47432007 -0.47432007\n",
      "  2.10828101]' has dtype incompatible with int64, please explicitly cast to a compatible dtype first.\n",
      "d:\\Personal\\Python Projects\\modular_code\\.venv\\Lib\\site-packages\\supervised\\preprocessing\\scale.py:33: FutureWarning: Setting an item of incompatible dtype is deprecated and will raise in a future error of pandas. Value '[-0.45163508 -0.45163508 -0.45163508 ...  2.21417697  2.21417697\n",
      " -0.45163508]' has dtype incompatible with int64, please explicitly cast to a compatible dtype first.\n",
      "d:\\Personal\\Python Projects\\modular_code\\.venv\\Lib\\site-packages\\supervised\\preprocessing\\scale.py:33: FutureWarning: Setting an item of incompatible dtype is deprecated and will raise in a future error of pandas. Value '[-0.45542559  2.19574839 -0.45542559 ... -0.45542559 -0.45542559\n",
      " -0.45542559]' has dtype incompatible with int64, please explicitly cast to a compatible dtype first.\n",
      "d:\\Personal\\Python Projects\\modular_code\\.venv\\Lib\\site-packages\\supervised\\preprocessing\\scale.py:33: FutureWarning: Setting an item of incompatible dtype is deprecated and will raise in a future error of pandas. Value '[ 1.47648895 -0.67728241  1.47648895 ...  1.47648895 -0.67728241\n",
      "  1.47648895]' has dtype incompatible with int64, please explicitly cast to a compatible dtype first.\n",
      "d:\\Personal\\Python Projects\\modular_code\\.venv\\Lib\\site-packages\\supervised\\preprocessing\\scale.py:33: FutureWarning: Setting an item of incompatible dtype is deprecated and will raise in a future error of pandas. Value '[-0.50306707  1.98780652 -0.50306707 ... -0.50306707  1.98780652\n",
      " -0.50306707]' has dtype incompatible with int64, please explicitly cast to a compatible dtype first.\n",
      "d:\\Personal\\Python Projects\\modular_code\\.venv\\Lib\\site-packages\\supervised\\preprocessing\\scale.py:33: FutureWarning: Setting an item of incompatible dtype is deprecated and will raise in a future error of pandas. Value '[-0.35630831 -0.35630831 -0.35630831 ... -0.35630831 -0.35630831\n",
      " -0.35630831]' has dtype incompatible with int64, please explicitly cast to a compatible dtype first.\n",
      "d:\\Personal\\Python Projects\\modular_code\\.venv\\Lib\\site-packages\\supervised\\preprocessing\\scale.py:33: FutureWarning: Setting an item of incompatible dtype is deprecated and will raise in a future error of pandas. Value '[-0.17360217 -0.17360217 -0.17360217 ... -0.17360217 -0.17360217\n",
      " -0.17360217]' has dtype incompatible with int64, please explicitly cast to a compatible dtype first.\n",
      "d:\\Personal\\Python Projects\\modular_code\\.venv\\Lib\\site-packages\\supervised\\preprocessing\\scale.py:33: FutureWarning: Setting an item of incompatible dtype is deprecated and will raise in a future error of pandas. Value '[-0.08266414 -0.08266414 -0.08266414 ... -0.08266414 -0.08266414\n",
      " -0.08266414]' has dtype incompatible with int64, please explicitly cast to a compatible dtype first.\n",
      "d:\\Personal\\Python Projects\\modular_code\\.venv\\Lib\\site-packages\\supervised\\preprocessing\\scale.py:33: FutureWarning: Setting an item of incompatible dtype is deprecated and will raise in a future error of pandas. Value '[-0.04815713 -0.04815713 -0.04815713 ... -0.04815713 -0.04815713\n",
      " -0.04815713]' has dtype incompatible with int64, please explicitly cast to a compatible dtype first.\n",
      "d:\\Personal\\Python Projects\\modular_code\\.venv\\Lib\\site-packages\\supervised\\preprocessing\\scale.py:33: FutureWarning: Setting an item of incompatible dtype is deprecated and will raise in a future error of pandas. Value '[-0.4624861   2.16222713 -0.4624861  ... -0.4624861   2.16222713\n",
      " -0.4624861 ]' has dtype incompatible with int64, please explicitly cast to a compatible dtype first.\n"
     ]
    },
    {
     "name": "stdout",
     "output_type": "stream",
     "text": [
      "4_Default_NeuralNetwork logloss 0.244421 trained in 7.46 seconds\n"
     ]
    },
    {
     "name": "stderr",
     "output_type": "stream",
     "text": [
      "d:\\Personal\\Python Projects\\modular_code\\.venv\\Lib\\site-packages\\supervised\\utils\\learning_curves.py:113: FutureWarning: The behavior of Series.argmax/argmin with skipna=False and NAs, or with all-NAs is deprecated. In a future version this will raise ValueError.\n",
      "d:\\Personal\\Python Projects\\modular_code\\.venv\\Lib\\site-packages\\supervised\\preprocessing\\preprocessing_categorical.py:78: FutureWarning: Setting an item of incompatible dtype is deprecated and will raise in a future error of pandas. Value '[0 0 0 ... 0 0 0]' has dtype incompatible with bool, please explicitly cast to a compatible dtype first.\n",
      "d:\\Personal\\Python Projects\\modular_code\\.venv\\Lib\\site-packages\\supervised\\preprocessing\\preprocessing_categorical.py:78: FutureWarning: Setting an item of incompatible dtype is deprecated and will raise in a future error of pandas. Value '[0 0 0 ... 0 0 0]' has dtype incompatible with bool, please explicitly cast to a compatible dtype first.\n",
      "d:\\Personal\\Python Projects\\modular_code\\.venv\\Lib\\site-packages\\supervised\\preprocessing\\preprocessing_categorical.py:78: FutureWarning: Setting an item of incompatible dtype is deprecated and will raise in a future error of pandas. Value '[1 1 1 ... 1 1 0]' has dtype incompatible with bool, please explicitly cast to a compatible dtype first.\n",
      "d:\\Personal\\Python Projects\\modular_code\\.venv\\Lib\\site-packages\\supervised\\preprocessing\\preprocessing_categorical.py:78: FutureWarning: Setting an item of incompatible dtype is deprecated and will raise in a future error of pandas. Value '[0 0 0 ... 0 0 1]' has dtype incompatible with bool, please explicitly cast to a compatible dtype first.\n",
      "d:\\Personal\\Python Projects\\modular_code\\.venv\\Lib\\site-packages\\supervised\\preprocessing\\preprocessing_categorical.py:78: FutureWarning: Setting an item of incompatible dtype is deprecated and will raise in a future error of pandas. Value '[0 0 0 ... 1 0 0]' has dtype incompatible with bool, please explicitly cast to a compatible dtype first.\n",
      "d:\\Personal\\Python Projects\\modular_code\\.venv\\Lib\\site-packages\\supervised\\preprocessing\\preprocessing_categorical.py:78: FutureWarning: Setting an item of incompatible dtype is deprecated and will raise in a future error of pandas. Value '[0 0 1 ... 0 1 0]' has dtype incompatible with bool, please explicitly cast to a compatible dtype first.\n",
      "d:\\Personal\\Python Projects\\modular_code\\.venv\\Lib\\site-packages\\supervised\\preprocessing\\preprocessing_categorical.py:78: FutureWarning: Setting an item of incompatible dtype is deprecated and will raise in a future error of pandas. Value '[0 0 0 ... 0 0 0]' has dtype incompatible with bool, please explicitly cast to a compatible dtype first.\n",
      "d:\\Personal\\Python Projects\\modular_code\\.venv\\Lib\\site-packages\\supervised\\preprocessing\\preprocessing_categorical.py:78: FutureWarning: Setting an item of incompatible dtype is deprecated and will raise in a future error of pandas. Value '[1 1 0 ... 0 0 0]' has dtype incompatible with bool, please explicitly cast to a compatible dtype first.\n",
      "d:\\Personal\\Python Projects\\modular_code\\.venv\\Lib\\site-packages\\supervised\\preprocessing\\preprocessing_categorical.py:78: FutureWarning: Setting an item of incompatible dtype is deprecated and will raise in a future error of pandas. Value '[1 0 0 ... 0 0 0]' has dtype incompatible with bool, please explicitly cast to a compatible dtype first.\n",
      "d:\\Personal\\Python Projects\\modular_code\\.venv\\Lib\\site-packages\\supervised\\preprocessing\\preprocessing_categorical.py:78: FutureWarning: Setting an item of incompatible dtype is deprecated and will raise in a future error of pandas. Value '[0 1 1 ... 0 0 0]' has dtype incompatible with bool, please explicitly cast to a compatible dtype first.\n",
      "d:\\Personal\\Python Projects\\modular_code\\.venv\\Lib\\site-packages\\supervised\\preprocessing\\preprocessing_categorical.py:78: FutureWarning: Setting an item of incompatible dtype is deprecated and will raise in a future error of pandas. Value '[0 0 0 ... 0 0 0]' has dtype incompatible with bool, please explicitly cast to a compatible dtype first.\n",
      "d:\\Personal\\Python Projects\\modular_code\\.venv\\Lib\\site-packages\\supervised\\preprocessing\\preprocessing_categorical.py:78: FutureWarning: Setting an item of incompatible dtype is deprecated and will raise in a future error of pandas. Value '[0 0 0 ... 0 0 0]' has dtype incompatible with bool, please explicitly cast to a compatible dtype first.\n",
      "d:\\Personal\\Python Projects\\modular_code\\.venv\\Lib\\site-packages\\supervised\\preprocessing\\preprocessing_categorical.py:78: FutureWarning: Setting an item of incompatible dtype is deprecated and will raise in a future error of pandas. Value '[0 0 0 ... 0 0 0]' has dtype incompatible with bool, please explicitly cast to a compatible dtype first.\n",
      "d:\\Personal\\Python Projects\\modular_code\\.venv\\Lib\\site-packages\\supervised\\preprocessing\\preprocessing_categorical.py:78: FutureWarning: Setting an item of incompatible dtype is deprecated and will raise in a future error of pandas. Value '[0 0 0 ... 0 0 0]' has dtype incompatible with bool, please explicitly cast to a compatible dtype first.\n",
      "d:\\Personal\\Python Projects\\modular_code\\.venv\\Lib\\site-packages\\supervised\\preprocessing\\preprocessing_categorical.py:78: FutureWarning: Setting an item of incompatible dtype is deprecated and will raise in a future error of pandas. Value '[0 0 0 ... 0 0 0]' has dtype incompatible with bool, please explicitly cast to a compatible dtype first.\n",
      "d:\\Personal\\Python Projects\\modular_code\\.venv\\Lib\\site-packages\\supervised\\preprocessing\\preprocessing_categorical.py:78: FutureWarning: Setting an item of incompatible dtype is deprecated and will raise in a future error of pandas. Value '[0 0 0 ... 0 0 0]' has dtype incompatible with bool, please explicitly cast to a compatible dtype first.\n",
      "d:\\Personal\\Python Projects\\modular_code\\.venv\\Lib\\site-packages\\supervised\\preprocessing\\preprocessing_categorical.py:78: FutureWarning: Setting an item of incompatible dtype is deprecated and will raise in a future error of pandas. Value '[0 0 0 ... 0 0 0]' has dtype incompatible with bool, please explicitly cast to a compatible dtype first.\n",
      "d:\\Personal\\Python Projects\\modular_code\\.venv\\Lib\\site-packages\\supervised\\preprocessing\\preprocessing_categorical.py:78: FutureWarning: Setting an item of incompatible dtype is deprecated and will raise in a future error of pandas. Value '[1 1 0 ... 1 1 1]' has dtype incompatible with bool, please explicitly cast to a compatible dtype first.\n",
      "d:\\Personal\\Python Projects\\modular_code\\.venv\\Lib\\site-packages\\supervised\\preprocessing\\preprocessing_categorical.py:78: FutureWarning: Setting an item of incompatible dtype is deprecated and will raise in a future error of pandas. Value '[0 0 0 ... 0 0 0]' has dtype incompatible with bool, please explicitly cast to a compatible dtype first.\n",
      "d:\\Personal\\Python Projects\\modular_code\\.venv\\Lib\\site-packages\\supervised\\preprocessing\\preprocessing_categorical.py:78: FutureWarning: Setting an item of incompatible dtype is deprecated and will raise in a future error of pandas. Value '[0 0 1 ... 0 0 0]' has dtype incompatible with bool, please explicitly cast to a compatible dtype first.\n",
      "d:\\Personal\\Python Projects\\modular_code\\.venv\\Lib\\site-packages\\supervised\\preprocessing\\preprocessing_categorical.py:78: FutureWarning: Setting an item of incompatible dtype is deprecated and will raise in a future error of pandas. Value '[1 0 0 ... 0 0 1]' has dtype incompatible with bool, please explicitly cast to a compatible dtype first.\n",
      "d:\\Personal\\Python Projects\\modular_code\\.venv\\Lib\\site-packages\\supervised\\preprocessing\\preprocessing_categorical.py:78: FutureWarning: Setting an item of incompatible dtype is deprecated and will raise in a future error of pandas. Value '[0 0 0 ... 1 1 0]' has dtype incompatible with bool, please explicitly cast to a compatible dtype first.\n",
      "d:\\Personal\\Python Projects\\modular_code\\.venv\\Lib\\site-packages\\supervised\\preprocessing\\preprocessing_categorical.py:78: FutureWarning: Setting an item of incompatible dtype is deprecated and will raise in a future error of pandas. Value '[0 1 0 ... 0 0 0]' has dtype incompatible with bool, please explicitly cast to a compatible dtype first.\n",
      "d:\\Personal\\Python Projects\\modular_code\\.venv\\Lib\\site-packages\\supervised\\preprocessing\\preprocessing_categorical.py:78: FutureWarning: Setting an item of incompatible dtype is deprecated and will raise in a future error of pandas. Value '[1 0 1 ... 1 0 1]' has dtype incompatible with bool, please explicitly cast to a compatible dtype first.\n",
      "d:\\Personal\\Python Projects\\modular_code\\.venv\\Lib\\site-packages\\supervised\\preprocessing\\preprocessing_categorical.py:78: FutureWarning: Setting an item of incompatible dtype is deprecated and will raise in a future error of pandas. Value '[0 1 0 ... 0 1 0]' has dtype incompatible with bool, please explicitly cast to a compatible dtype first.\n",
      "d:\\Personal\\Python Projects\\modular_code\\.venv\\Lib\\site-packages\\supervised\\preprocessing\\preprocessing_categorical.py:78: FutureWarning: Setting an item of incompatible dtype is deprecated and will raise in a future error of pandas. Value '[0 0 0 ... 0 0 0]' has dtype incompatible with bool, please explicitly cast to a compatible dtype first.\n",
      "d:\\Personal\\Python Projects\\modular_code\\.venv\\Lib\\site-packages\\supervised\\preprocessing\\preprocessing_categorical.py:78: FutureWarning: Setting an item of incompatible dtype is deprecated and will raise in a future error of pandas. Value '[0 0 0 ... 0 0 0]' has dtype incompatible with bool, please explicitly cast to a compatible dtype first.\n",
      "d:\\Personal\\Python Projects\\modular_code\\.venv\\Lib\\site-packages\\supervised\\preprocessing\\preprocessing_categorical.py:78: FutureWarning: Setting an item of incompatible dtype is deprecated and will raise in a future error of pandas. Value '[0 0 0 ... 0 0 0]' has dtype incompatible with bool, please explicitly cast to a compatible dtype first.\n",
      "d:\\Personal\\Python Projects\\modular_code\\.venv\\Lib\\site-packages\\supervised\\preprocessing\\preprocessing_categorical.py:78: FutureWarning: Setting an item of incompatible dtype is deprecated and will raise in a future error of pandas. Value '[0 0 0 ... 0 0 0]' has dtype incompatible with bool, please explicitly cast to a compatible dtype first.\n",
      "d:\\Personal\\Python Projects\\modular_code\\.venv\\Lib\\site-packages\\supervised\\preprocessing\\preprocessing_categorical.py:78: FutureWarning: Setting an item of incompatible dtype is deprecated and will raise in a future error of pandas. Value '[0 1 0 ... 0 1 0]' has dtype incompatible with bool, please explicitly cast to a compatible dtype first.\n"
     ]
    },
    {
     "name": "stdout",
     "output_type": "stream",
     "text": [
      "5_Default_RandomForest logloss 0.284042 trained in 8.55 seconds\n",
      "* Step ensemble will try to check up to 1 model\n",
      "Ensemble logloss 0.186951 trained in 2.84 seconds\n",
      "AutoML fit time: 74.04 seconds\n",
      "AutoML best model: 3_Default_Xgboost\n"
     ]
    },
    {
     "name": "stderr",
     "output_type": "stream",
     "text": [
      "d:\\Personal\\Python Projects\\modular_code\\.venv\\Lib\\site-packages\\supervised\\preprocessing\\preprocessing_categorical.py:78: FutureWarning: Setting an item of incompatible dtype is deprecated and will raise in a future error of pandas. Value '[0 0 0 ... 0 0 0]' has dtype incompatible with bool, please explicitly cast to a compatible dtype first.\n",
      "d:\\Personal\\Python Projects\\modular_code\\.venv\\Lib\\site-packages\\supervised\\preprocessing\\preprocessing_categorical.py:78: FutureWarning: Setting an item of incompatible dtype is deprecated and will raise in a future error of pandas. Value '[0 0 0 ... 0 0 0]' has dtype incompatible with bool, please explicitly cast to a compatible dtype first.\n",
      "d:\\Personal\\Python Projects\\modular_code\\.venv\\Lib\\site-packages\\supervised\\preprocessing\\preprocessing_categorical.py:78: FutureWarning: Setting an item of incompatible dtype is deprecated and will raise in a future error of pandas. Value '[1 0 1 ... 0 1 0]' has dtype incompatible with bool, please explicitly cast to a compatible dtype first.\n",
      "d:\\Personal\\Python Projects\\modular_code\\.venv\\Lib\\site-packages\\supervised\\preprocessing\\preprocessing_categorical.py:78: FutureWarning: Setting an item of incompatible dtype is deprecated and will raise in a future error of pandas. Value '[0 0 0 ... 0 0 0]' has dtype incompatible with bool, please explicitly cast to a compatible dtype first.\n",
      "d:\\Personal\\Python Projects\\modular_code\\.venv\\Lib\\site-packages\\supervised\\preprocessing\\preprocessing_categorical.py:78: FutureWarning: Setting an item of incompatible dtype is deprecated and will raise in a future error of pandas. Value '[0 0 0 ... 1 0 0]' has dtype incompatible with bool, please explicitly cast to a compatible dtype first.\n",
      "d:\\Personal\\Python Projects\\modular_code\\.venv\\Lib\\site-packages\\supervised\\preprocessing\\preprocessing_categorical.py:78: FutureWarning: Setting an item of incompatible dtype is deprecated and will raise in a future error of pandas. Value '[1 0 0 ... 0 0 1]' has dtype incompatible with bool, please explicitly cast to a compatible dtype first.\n",
      "d:\\Personal\\Python Projects\\modular_code\\.venv\\Lib\\site-packages\\supervised\\preprocessing\\preprocessing_categorical.py:78: FutureWarning: Setting an item of incompatible dtype is deprecated and will raise in a future error of pandas. Value '[0 0 0 ... 0 0 0]' has dtype incompatible with bool, please explicitly cast to a compatible dtype first.\n",
      "d:\\Personal\\Python Projects\\modular_code\\.venv\\Lib\\site-packages\\supervised\\preprocessing\\preprocessing_categorical.py:78: FutureWarning: Setting an item of incompatible dtype is deprecated and will raise in a future error of pandas. Value '[0 1 1 ... 0 1 0]' has dtype incompatible with bool, please explicitly cast to a compatible dtype first.\n",
      "d:\\Personal\\Python Projects\\modular_code\\.venv\\Lib\\site-packages\\supervised\\preprocessing\\preprocessing_categorical.py:78: FutureWarning: Setting an item of incompatible dtype is deprecated and will raise in a future error of pandas. Value '[1 0 1 ... 0 0 0]' has dtype incompatible with bool, please explicitly cast to a compatible dtype first.\n",
      "d:\\Personal\\Python Projects\\modular_code\\.venv\\Lib\\site-packages\\supervised\\preprocessing\\preprocessing_categorical.py:78: FutureWarning: Setting an item of incompatible dtype is deprecated and will raise in a future error of pandas. Value '[0 0 0 ... 0 0 0]' has dtype incompatible with bool, please explicitly cast to a compatible dtype first.\n",
      "d:\\Personal\\Python Projects\\modular_code\\.venv\\Lib\\site-packages\\supervised\\preprocessing\\preprocessing_categorical.py:78: FutureWarning: Setting an item of incompatible dtype is deprecated and will raise in a future error of pandas. Value '[0 0 0 ... 0 1 0]' has dtype incompatible with bool, please explicitly cast to a compatible dtype first.\n",
      "d:\\Personal\\Python Projects\\modular_code\\.venv\\Lib\\site-packages\\supervised\\preprocessing\\preprocessing_categorical.py:78: FutureWarning: Setting an item of incompatible dtype is deprecated and will raise in a future error of pandas. Value '[0 0 0 ... 0 0 0]' has dtype incompatible with bool, please explicitly cast to a compatible dtype first.\n",
      "d:\\Personal\\Python Projects\\modular_code\\.venv\\Lib\\site-packages\\supervised\\preprocessing\\preprocessing_categorical.py:78: FutureWarning: Setting an item of incompatible dtype is deprecated and will raise in a future error of pandas. Value '[0 0 0 ... 0 0 0]' has dtype incompatible with bool, please explicitly cast to a compatible dtype first.\n",
      "d:\\Personal\\Python Projects\\modular_code\\.venv\\Lib\\site-packages\\supervised\\preprocessing\\preprocessing_categorical.py:78: FutureWarning: Setting an item of incompatible dtype is deprecated and will raise in a future error of pandas. Value '[0 0 0 ... 0 0 0]' has dtype incompatible with bool, please explicitly cast to a compatible dtype first.\n",
      "d:\\Personal\\Python Projects\\modular_code\\.venv\\Lib\\site-packages\\supervised\\preprocessing\\preprocessing_categorical.py:78: FutureWarning: Setting an item of incompatible dtype is deprecated and will raise in a future error of pandas. Value '[0 0 0 ... 0 1 0]' has dtype incompatible with bool, please explicitly cast to a compatible dtype first.\n"
     ]
    }
   ],
   "source": [
    "# autoML\n",
    "#cv = RepeatedStratifiedKFold(n_splits=10, n_repeats=3, random_state=1)\n",
    "\n",
    "automl = AutoML()\n",
    "automl.fit(X_train, y_train)\n",
    "\n",
    "predictions = automl.predict(X_test)"
   ]
  },
  {
   "cell_type": "code",
   "execution_count": 7,
   "metadata": {},
   "outputs": [
    {
     "name": "stdout",
     "output_type": "stream",
     "text": [
      "0.932449105490438\n",
      "0.717948717948718\n",
      "0.981549815498155\n"
     ]
    }
   ],
   "source": [
    "print(accuracy_score(y_test, predictions.astype(int)))\n",
    "print(recall_score(y_test, predictions.astype(int)))\n",
    "print(precision_score(y_test, predictions.astype(int)))\n",
    "\n",
    "# Apakah autoML ini sudah menghandle data imbalance?\n",
    "# solving: 1. resampling, 2. bootstrap"
   ]
  },
  {
   "cell_type": "code",
   "execution_count": 8,
   "metadata": {},
   "outputs": [
    {
     "name": "stdout",
     "output_type": "stream",
     "text": [
      "0.9520754451255935\n"
     ]
    },
    {
     "name": "stderr",
     "output_type": "stream",
     "text": [
      "d:\\Personal\\Python Projects\\modular_code\\.venv\\Lib\\site-packages\\supervised\\preprocessing\\preprocessing_categorical.py:78: FutureWarning: Setting an item of incompatible dtype is deprecated and will raise in a future error of pandas. Value '[0 0 0 ... 0 0 0]' has dtype incompatible with bool, please explicitly cast to a compatible dtype first.\n",
      "d:\\Personal\\Python Projects\\modular_code\\.venv\\Lib\\site-packages\\supervised\\preprocessing\\preprocessing_categorical.py:78: FutureWarning: Setting an item of incompatible dtype is deprecated and will raise in a future error of pandas. Value '[0 0 0 ... 0 0 0]' has dtype incompatible with bool, please explicitly cast to a compatible dtype first.\n",
      "d:\\Personal\\Python Projects\\modular_code\\.venv\\Lib\\site-packages\\supervised\\preprocessing\\preprocessing_categorical.py:78: FutureWarning: Setting an item of incompatible dtype is deprecated and will raise in a future error of pandas. Value '[1 0 1 ... 0 1 0]' has dtype incompatible with bool, please explicitly cast to a compatible dtype first.\n",
      "d:\\Personal\\Python Projects\\modular_code\\.venv\\Lib\\site-packages\\supervised\\preprocessing\\preprocessing_categorical.py:78: FutureWarning: Setting an item of incompatible dtype is deprecated and will raise in a future error of pandas. Value '[0 0 0 ... 0 0 0]' has dtype incompatible with bool, please explicitly cast to a compatible dtype first.\n",
      "d:\\Personal\\Python Projects\\modular_code\\.venv\\Lib\\site-packages\\supervised\\preprocessing\\preprocessing_categorical.py:78: FutureWarning: Setting an item of incompatible dtype is deprecated and will raise in a future error of pandas. Value '[0 0 0 ... 1 0 0]' has dtype incompatible with bool, please explicitly cast to a compatible dtype first.\n",
      "d:\\Personal\\Python Projects\\modular_code\\.venv\\Lib\\site-packages\\supervised\\preprocessing\\preprocessing_categorical.py:78: FutureWarning: Setting an item of incompatible dtype is deprecated and will raise in a future error of pandas. Value '[1 0 0 ... 0 0 1]' has dtype incompatible with bool, please explicitly cast to a compatible dtype first.\n",
      "d:\\Personal\\Python Projects\\modular_code\\.venv\\Lib\\site-packages\\supervised\\preprocessing\\preprocessing_categorical.py:78: FutureWarning: Setting an item of incompatible dtype is deprecated and will raise in a future error of pandas. Value '[0 0 0 ... 0 0 0]' has dtype incompatible with bool, please explicitly cast to a compatible dtype first.\n",
      "d:\\Personal\\Python Projects\\modular_code\\.venv\\Lib\\site-packages\\supervised\\preprocessing\\preprocessing_categorical.py:78: FutureWarning: Setting an item of incompatible dtype is deprecated and will raise in a future error of pandas. Value '[0 1 1 ... 0 1 0]' has dtype incompatible with bool, please explicitly cast to a compatible dtype first.\n",
      "d:\\Personal\\Python Projects\\modular_code\\.venv\\Lib\\site-packages\\supervised\\preprocessing\\preprocessing_categorical.py:78: FutureWarning: Setting an item of incompatible dtype is deprecated and will raise in a future error of pandas. Value '[1 0 1 ... 0 0 0]' has dtype incompatible with bool, please explicitly cast to a compatible dtype first.\n",
      "d:\\Personal\\Python Projects\\modular_code\\.venv\\Lib\\site-packages\\supervised\\preprocessing\\preprocessing_categorical.py:78: FutureWarning: Setting an item of incompatible dtype is deprecated and will raise in a future error of pandas. Value '[0 0 0 ... 0 0 0]' has dtype incompatible with bool, please explicitly cast to a compatible dtype first.\n",
      "d:\\Personal\\Python Projects\\modular_code\\.venv\\Lib\\site-packages\\supervised\\preprocessing\\preprocessing_categorical.py:78: FutureWarning: Setting an item of incompatible dtype is deprecated and will raise in a future error of pandas. Value '[0 0 0 ... 0 1 0]' has dtype incompatible with bool, please explicitly cast to a compatible dtype first.\n",
      "d:\\Personal\\Python Projects\\modular_code\\.venv\\Lib\\site-packages\\supervised\\preprocessing\\preprocessing_categorical.py:78: FutureWarning: Setting an item of incompatible dtype is deprecated and will raise in a future error of pandas. Value '[0 0 0 ... 0 0 0]' has dtype incompatible with bool, please explicitly cast to a compatible dtype first.\n",
      "d:\\Personal\\Python Projects\\modular_code\\.venv\\Lib\\site-packages\\supervised\\preprocessing\\preprocessing_categorical.py:78: FutureWarning: Setting an item of incompatible dtype is deprecated and will raise in a future error of pandas. Value '[0 0 0 ... 0 0 0]' has dtype incompatible with bool, please explicitly cast to a compatible dtype first.\n",
      "d:\\Personal\\Python Projects\\modular_code\\.venv\\Lib\\site-packages\\supervised\\preprocessing\\preprocessing_categorical.py:78: FutureWarning: Setting an item of incompatible dtype is deprecated and will raise in a future error of pandas. Value '[0 0 0 ... 0 0 0]' has dtype incompatible with bool, please explicitly cast to a compatible dtype first.\n",
      "d:\\Personal\\Python Projects\\modular_code\\.venv\\Lib\\site-packages\\supervised\\preprocessing\\preprocessing_categorical.py:78: FutureWarning: Setting an item of incompatible dtype is deprecated and will raise in a future error of pandas. Value '[0 0 0 ... 0 1 0]' has dtype incompatible with bool, please explicitly cast to a compatible dtype first.\n"
     ]
    }
   ],
   "source": [
    "print(roc_auc_score(y_test, automl.predict_proba(X_test)[:, 1]))"
   ]
  },
  {
   "cell_type": "code",
   "execution_count": null,
   "metadata": {},
   "outputs": [],
   "source": []
  }
 ],
 "metadata": {
  "kernelspec": {
   "display_name": "Python 3.10.4 ('bni_sandbox')",
   "language": "python",
   "name": "python3"
  },
  "language_info": {
   "codemirror_mode": {
    "name": "ipython",
    "version": 3
   },
   "file_extension": ".py",
   "mimetype": "text/x-python",
   "name": "python",
   "nbconvert_exporter": "python",
   "pygments_lexer": "ipython3",
   "version": "3.11.2"
  },
  "orig_nbformat": 4,
  "vscode": {
   "interpreter": {
    "hash": "2f27a6df9f39d65232cb8770c7e8b28f2e019f79aa49f2803d709d46fa8ecdc6"
   }
  }
 },
 "nbformat": 4,
 "nbformat_minor": 2
}
